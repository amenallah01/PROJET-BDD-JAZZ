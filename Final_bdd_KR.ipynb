{
 "cells": [
  {
   "cell_type": "markdown",
   "id": "03351995",
   "metadata": {},
   "source": [
    "<center>\n",
    "<img src=\"https://www.uvsq.fr/medias/photo/logo-uvsq-2020-cmjn_1578589130014-png?ID_FICHE=213209&INLINE=FALSE\" width=\"25%\" />\n",
    "</center>\n",
    "\n",
    "\n",
    "\n",
    "\n",
    "<center> <h2> PROJET BDD JAZZ  </h2> </center>\n",
    "\n",
    "<center> <h3>  KRISSAAN AMEN ALLAH   </h3> </center>\n",
    "\n",
    "\n",
    "<center>\n",
    "<img src=\"https://avatars.githubusercontent.com/u/86923959?s=400&u=3097a31c5eb9e29e67fe5fd285373b52ecdae5e3&v=4\" width=\"15%\" />\n",
    "</center>\n",
    " \n",
    "\n",
    "\n",
    "\n",
    "\n",
    "<center> <h4> https://github.com/amenallah01/PROJET-BDD-JAZZ.git </h4> </center>\n",
    "<center> <h3> amen-allah.krissaan@ens.uvsq.fr  </h3> </center>\n",
    "<center> <h3> amenallahkrissane@gmail.com  </h3> </center>\n",
    "<center> <h3>  Master TRIED  </h3> </center>\n",
    "<center> <h3>  Janvier 2025 </h3> </center>"
   ]
  },
  {
   "cell_type": "markdown",
   "id": "548d3d71",
   "metadata": {},
   "source": [
    "\n",
    "### Ici on va Commencer par la faire la connection à une base de données SQLite nommée 'jazz_projet.db' et charge un schéma à partir d'un fichier SQL nommé 'DATA.sql'.\n",
    "\n",
    "    Etapes :\n",
    "        1. Se connecter à la base de données SQLite 'jazz_projet.db'.\n",
    "        2. Ouvrez et lisez le contenu de 'DATA.sql'.\n",
    "        3. Diviser le contenu du fichier SQL en commandes SQL individuelles.\n",
    "        4. Exécuter chaque commande SQL à l'aide du curseur de la base de données.\n",
    "        5. Si une commande échoue en raison d'une OperationalError, elle est ignorée et un message est imprimé.\n"
   ]
  },
  {
   "cell_type": "code",
   "execution_count": 1,
   "id": "37292925",
   "metadata": {},
   "outputs": [],
   "source": [
    "import sqlite3\n",
    "\n",
    "db_jazz = sqlite3.connect('jazz_projet.db')\n",
    "cursor = db_jazz.cursor()\n",
    "\n",
    "# Loading the schema into the database\n",
    "fd = open('DATA.sql', 'r')\n",
    "sqlFile = fd.read()\n",
    "fd.close()\n",
    "\n",
    "sqlCommands = sqlFile.split(';')\n",
    "\n",
    "for command in sqlCommands:\n",
    "    try:\n",
    "        cursor.execute(command)\n",
    "    except sqlite3.OperationalError:\n",
    "        print('Command skipped: ' + command)"
   ]
  },
  {
   "cell_type": "code",
   "execution_count": 2,
   "id": "293b07ab",
   "metadata": {},
   "outputs": [
    {
     "name": "stdout",
     "output_type": "stream",
     "text": [
      "\n",
      "--- TABLE Salle \n",
      "\n",
      "              ID_salle              Nom_salle          Nombre_Places \n",
      "\n",
      "--- TABLE Concert \n",
      "\n",
      "            ID_concert            Nom_concert            ID_musicien        ID_organisateur \n",
      "\n",
      "--- TABLE Client \n",
      "\n",
      "             ID_client             Nom_client             Tel_client \n",
      "\n",
      "--- TABLE Musicien \n",
      "\n",
      "           ID_musicien           Nom_musicien           Tel_musicien \n",
      "\n",
      "--- TABLE Morceau \n",
      "\n",
      "            ID_morceau            Nom_morceau \n",
      "\n",
      "--- TABLE Organisateur \n",
      "\n",
      "       ID_organisateur       Nom_organisateur       Tel_organisateur \n",
      "\n",
      "--- TABLE Reservation \n",
      "\n",
      "            ID_concert                   Date              ID_client              Num_place                   Prix \n",
      "\n",
      "--- TABLE Participation \n",
      "\n",
      "           ID_musicien             ID_concert \n",
      "\n",
      "--- TABLE Programme \n",
      "\n",
      "            ID_morceau             ID_concert           ID_arrangeur \n",
      "\n",
      "--- TABLE Auteur \n",
      "\n",
      "           ID_musicien             ID_morceau \n",
      "\n",
      "--- TABLE Seance \n",
      "\n",
      "            ID_concert                   Date               ID_salle \n"
     ]
    }
   ],
   "source": [
    "tables = ['Salle', 'Concert', 'Client', 'Musicien', 'Morceau', 'Organisateur', 'Reservation', 'Participation', 'Programme', 'Auteur', 'Seance']\n",
    "for table in tables:\n",
    "    cursor.execute(f\"SELECT * FROM {table}\")\n",
    "    rows = cursor.fetchall()\n",
    "\n",
    "    print(\"\\n--- TABLE\", table, \"\\n\")\n",
    "\n",
    "    for desc in cursor.description:\n",
    "        print(desc[0].rjust(22, ' '), end=' ')\n",
    "\n",
    "    print(\"\")\n"
   ]
  },
  {
   "cell_type": "code",
   "execution_count": 3,
   "id": "425a4816",
   "metadata": {},
   "outputs": [],
   "source": [
    "def printTable(table):\n",
    "    cursor.execute(f\"SELECT * FROM {table}\")\n",
    "    rows = cursor.fetchall()\n",
    "    print(\"\\n--- TABLE\", table, \"\\n\")\n",
    "    for desc in cursor.description:\n",
    "        print(desc[0].rjust(22, ' '), end=' ')\n",
    "    print(\"\")\n",
    "    for row in rows[:5]:\n",
    "        for value in row:\n",
    "            print(str(value).rjust(22, ' '), end=' ')\n",
    "        print(\"\")\n"
   ]
  },
  {
   "cell_type": "markdown",
   "id": "5d56bc97",
   "metadata": {},
   "source": [
    "<center>\n",
    "<img src=\"images/image.png\" width=\"80%\" />\n",
    "</center>"
   ]
  },
  {
   "cell_type": "markdown",
   "id": "281df25a",
   "metadata": {},
   "source": [
    "\n",
    "\n",
    "###  Maintenant on  insère des données provenant de fichiers texte dans les tables correspondantes d'une base de données.\n",
    "\n",
    "####   Variables\n",
    "\n",
    "- **fichiers** (liste) : Une liste de noms de fichiers (sans extensions) à traiter.\n",
    "- **chemin** (str) : Le chemin du répertoire où se trouvent les fichiers de données.\n",
    "\n",
    "####  Fonctionnalités\n",
    "\n",
    "- Ouvre le fichier `xJazz_clients_all.txt` à partir du chemin spécifié.\n",
    "- Lit chaque ligne du fichier, supprime les espaces superflus au début et à la fin, puis divise la ligne par des points-virgules.\n",
    "- Exécute une instruction SQL `INSERT` pour insérer les données dans la table `Client`.\n",
    "- Valide la transaction dans la base de données après chaque insertion.\n",
    "\n"
   ]
  },
  {
   "cell_type": "code",
   "execution_count": 4,
   "id": "f7587398",
   "metadata": {},
   "outputs": [],
   "source": [
    "fichiers = ['xJazz_clients_all', 'xJazz_morceux_et_arr_all', 'xJazz_musiciens_all', 'xJazz_organisateurs_all', 'xJazz_salles_all']\n",
    "\n",
    "path = 'Jazz_data/'\n",
    "\n",
    "# Inserts data from 'xJazz_clients_all.txt' into the 'Client' table\n",
    "with open(path + 'xJazz_clients_all.txt', 'r') as f:\n",
    "    for line in f:\n",
    "        line = line.strip()\n",
    "        line = line.split(';')\n",
    "        cursor.execute(\"INSERT INTO Client VALUES (?, ?, ?)\", (line[0], line[1], line[2]))\n",
    "        db_jazz.commit()\n"
   ]
  },
  {
   "cell_type": "markdown",
   "id": "91f915c7",
   "metadata": {},
   "source": [
    "### Insérer « ID_Morceau » et « nom_morceau » dans la table « Morceau ». \n"
   ]
  },
  {
   "cell_type": "code",
   "execution_count": null,
   "id": "0b363ef4",
   "metadata": {},
   "outputs": [],
   "source": [
    "with open(path + 'xJazz_morceux_et_arr_all.txt', 'r') as f:\n",
    "    for line in f:\n",
    "        line = line.strip()\n",
    "        line = line.split(';')\n",
    "        nom_morceau = line[1].split('\\t')[0].replace('\"', '')\n",
    "        cursor.execute(\"INSERT INTO Morceau VALUES (?, ?)\", (line[0].strip(), nom_morceau.strip()))\n",
    "        db_jazz.commit()\n"
   ]
  },
  {
   "cell_type": "markdown",
   "id": "b1ec1c7f",
   "metadata": {},
   "source": [
    "### Insérer des artistes dans la table « Musicien »."
   ]
  },
  {
   "cell_type": "code",
   "execution_count": 6,
   "id": "ef56e738",
   "metadata": {},
   "outputs": [],
   "source": [
    "\n",
    "with open(path + 'xJazz_musiciens_all.txt', 'r') as f:\n",
    "    for line in f:\n",
    "        line = line.strip()\n",
    "        line = line.split(';')\n",
    "        cursor.execute(\"INSERT INTO Musicien VALUES (?, ?, ?)\", (line[0], line[1], line[2]))\n",
    "        db_jazz.commit()\n",
    "\n"
   ]
  },
  {
   "cell_type": "markdown",
   "id": "32cf790f",
   "metadata": {},
   "source": [
    "### Insérer les organisateurs dans le tableau « Organisateur ».\n"
   ]
  },
  {
   "cell_type": "code",
   "execution_count": 7,
   "id": "d9462a71",
   "metadata": {},
   "outputs": [],
   "source": [
    "with open(path + 'xJazz_organisateurs_all.txt', 'r') as f:\n",
    "    for line in f:\n",
    "        line = line.strip()\n",
    "        line = line.split(';')\n",
    "        cursor.execute(\"INSERT INTO Organisateur VALUES (?, ?, ?)\", (line[0], line[1].replace('\"', ''), line[2]))\n",
    "        db_jazz.commit()"
   ]
  },
  {
   "cell_type": "markdown",
   "id": "10bcfef0",
   "metadata": {},
   "source": [
    "### Insérer les salles dans la table « Salle ».\n"
   ]
  },
  {
   "cell_type": "code",
   "execution_count": 8,
   "id": "872215b4",
   "metadata": {},
   "outputs": [],
   "source": [
    "with open(path + 'xJazz_salles_all.txt', 'r') as f:\n",
    "    for line in f:\n",
    "        line = line.strip()\n",
    "        line = line.split(';')\n",
    "        cursor.execute(\"INSERT INTO Salle VALUES (?, ?, ?)\", (line[0], line[1].replace('\"', ''), line[2]))\n",
    "        db_jazz.commit()"
   ]
  },
  {
   "cell_type": "code",
   "execution_count": 9,
   "id": "f276b9a0",
   "metadata": {},
   "outputs": [],
   "source": [
    "with open(path + 'xJazz_morceux_et_arr_all.txt', 'r') as f:\n",
    "    for line in f:\n",
    "        line = line.strip()\n",
    "        line = line.split(';')\n",
    "        id_morceau = line[0].strip()\n",
    "        \n",
    "        nom_musiciens = line[1].replace('\\t\\t', '\\t').split('\\t')[1].split('et')\n",
    "        for nom_musicien in nom_musiciens:\n",
    "            nom_musicien = nom_musicien.strip()\n",
    "            # get id musicien\n",
    "            cursor.execute(\"SELECT ID_musicien FROM Musicien WHERE Nom_musicien = ?\", (nom_musicien,))\n",
    "            id_musicien = cursor.fetchone()[0]\n",
    "            if(id_musicien == None):\n",
    "                print(nom_musicien)\n",
    "\n",
    "            cursor.execute(\"INSERT INTO Auteur VALUES (?, ?)\", (id_musicien, id_morceau))\n",
    "            db_jazz.commit()\n"
   ]
  },
  {
   "cell_type": "code",
   "execution_count": 10,
   "id": "59baaeec",
   "metadata": {},
   "outputs": [
    {
     "name": "stdout",
     "output_type": "stream",
     "text": [
      "\n",
      "--- TABLE Client \n",
      "\n",
      "             ID_client             Nom_client             Tel_client \n",
      "                     1                 Claire             0769646587 \n",
      "                     2               Caroline             0912363008 \n",
      "                     3                 Marcel             0013908883 \n",
      "                     4                   Eric             0450425837 \n",
      "                     5                   Sean             0109889300 \n",
      "\n",
      "--- TABLE Morceau \n",
      "\n",
      "            ID_morceau            Nom_morceau \n",
      "                     1            Les fraises \n",
      "                     2        La joie du Jazz \n",
      "                     3                Le truc \n",
      "                     4                 Danger \n",
      "                     5                  Miaou \n",
      "\n",
      "--- TABLE Musicien \n",
      "\n",
      "           ID_musicien           Nom_musicien           Tel_musicien \n",
      "                     1                  Louis             0615063355 \n",
      "                     2                Michael             0360717574 \n",
      "                     3                  Miles             0928808376 \n",
      "                     4                Ernesto             0568464097 \n",
      "                     5                  Keith           081057551297 \n"
     ]
    }
   ],
   "source": [
    "printTable('Client')\n",
    "printTable('Morceau')\n",
    "printTable('Musicien')"
   ]
  },
  {
   "cell_type": "code",
   "execution_count": 11,
   "id": "921b4000",
   "metadata": {},
   "outputs": [
    {
     "name": "stdout",
     "output_type": "stream",
     "text": [
      "\n",
      "--- TABLE Organisateur \n",
      "\n",
      "       ID_organisateur       Nom_organisateur       Tel_organisateur \n",
      "                     1          Les meilleurs             0698541706 \n",
      "                     2   Bandits et compagnie             0368638044 \n",
      "                     3       Le Jazz Ã  faire             0765555168 \n",
      "\n",
      "--- TABLE Salle \n",
      "\n",
      "              ID_salle              Nom_salle          Nombre_Places \n",
      "                     1             Le repaire                     30 \n",
      "                     2          Le vieux soir                     40 \n",
      "                     3      L'Ã©lÃ©phant rose                    100 \n",
      "                     4         Le New Orleans                    120 \n",
      "\n",
      "--- TABLE Auteur \n",
      "\n",
      "           ID_musicien             ID_morceau \n",
      "                     1                      1 \n",
      "                     1                      2 \n",
      "                     3                      3 \n",
      "                     5                      3 \n",
      "                     9                      4 \n"
     ]
    }
   ],
   "source": [
    "printTable('Organisateur')\n",
    "printTable('Salle')\n",
    "printTable('Auteur')"
   ]
  },
  {
   "cell_type": "markdown",
   "id": "e677d784",
   "metadata": {},
   "source": [
    "### lire les concerts à partir de concerts.json\n"
   ]
  },
  {
   "cell_type": "code",
   "execution_count": 12,
   "id": "f746148f",
   "metadata": {},
   "outputs": [],
   "source": [
    "import json\n",
    "\n",
    "with open('donnees_concerts.json') as json_file:\n",
    "    concerts = json.load(json_file)\n",
    "    # Iterate through the concert data\n",
    "    for concert in concerts:\n",
    "        # Insert into Concert\n",
    "        cursor.execute(\"INSERT INTO Concert (ID_concert, Nom_concert, ID_musicien, ID_organisateur) VALUES (?, ?, (SELECT ID_musicien FROM Musicien WHERE Nom_musicien = ?), (SELECT ID_organisateur FROM Organisateur WHERE Nom_organisateur = ?))\", \n",
    "                       (concert[\"ID_concert\"], concert[\"Nom_concert\"], concert[\"leader\"], concert[\"organisateur\"])) \n",
    "\n",
    "        for morceau in concert[\"Morceaux\"]:\n",
    "            # Insert into Programme\n",
    "            cursor.execute(\"INSERT INTO Programme (ID_morceau, ID_concert, ID_arrangeur) VALUES ((SELECT ID_morceau FROM Morceau WHERE Nom_morceau = ?), ?, (SELECT ID_musicien FROM Musicien WHERE Nom_musicien = ?))\", \n",
    "                           (morceau[\"Nom\"], concert[\"ID_concert\"], morceau[\"Arrangeur\"])) \n",
    "            \n",
    "        for musicien in concert[\"Musiciens\"]:\n",
    "            # Insert into Participation\n",
    "            cursor.execute(\"INSERT INTO Participation (ID_musicien, ID_concert) VALUES ((SELECT ID_musicien FROM Musicien WHERE Nom_musicien = ?), ?)\", \n",
    "                           (musicien, concert[\"ID_concert\"]))\n",
    "\n",
    "        # Insert into Seance\n",
    "        for seance in concert[\"Seances\"]:\n",
    "            cursor.execute(\"INSERT INTO Seance (ID_concert, Date, ID_salle) VALUES (?, ?, (SELECT ID_salle FROM Salle WHERE Nom_salle = ?))\", \n",
    "                           (concert[\"ID_concert\"],seance[\"date\"], seance[\"salle\"])) \n",
    "\n",
    "            # Insert into Reservation\n",
    "            for reservation in seance[\"Reservations\"]:\n",
    "                try:\n",
    "                    cursor.execute(\"INSERT INTO Reservation (ID_concert, Date, ID_client, Num_place, Prix) VALUES (?, ?, (SELECT ID_client FROM Client WHERE Nom_client = ?), ?, ?)\", \n",
    "                               (concert[\"ID_concert\"],seance[\"date\"], reservation[\"Nom\"], reservation[\"Place\"], reservation[\"Prix\"]))\n",
    "                except sqlite3.IntegrityError as e:\n",
    "                    print(e)"
   ]
  },
  {
   "cell_type": "code",
   "execution_count": 13,
   "id": "e8d72381",
   "metadata": {},
   "outputs": [
    {
     "name": "stdout",
     "output_type": "stream",
     "text": [
      "\n",
      "--- TABLE Concert \n",
      "\n",
      "            ID_concert            Nom_concert            ID_musicien        ID_organisateur \n",
      "                     1       La folie du soir                      1                      3 \n",
      "                     2          Nouvelle Ã¨re                      9                      1 \n",
      "                     3       Festival d'Ã©tÃ©                      3                      1 \n",
      "\n",
      "--- TABLE Seance \n",
      "\n",
      "            ID_concert                   Date               ID_salle \n",
      "                     1             2022/04/15                      1 \n",
      "                     2             2022/10/05                      3 \n",
      "                     3             2022/06/21                      4 \n",
      "                     3             2022/08/07                      2 \n"
     ]
    }
   ],
   "source": [
    "printTable('Concert')\n",
    "\n",
    "printTable('Seance')"
   ]
  },
  {
   "cell_type": "code",
   "execution_count": 14,
   "id": "027190e5",
   "metadata": {},
   "outputs": [
    {
     "name": "stdout",
     "output_type": "stream",
     "text": [
      "\n",
      "--- TABLE Programme \n",
      "\n",
      "            ID_morceau             ID_concert           ID_arrangeur \n",
      "                     1                      1                      6 \n",
      "                     8                      1                      1 \n",
      "                    12                      1                      1 \n",
      "                     7                      1                      3 \n",
      "                    16                      1                      6 \n",
      "\n",
      "--- TABLE Reservation \n",
      "\n",
      "            ID_concert                   Date              ID_client              Num_place                   Prix \n",
      "                     1             2022/04/15                     14                      1                     28 \n",
      "                     1             2022/04/15                      3                      2                     32 \n",
      "                     1             2022/04/15                      2                      3                     26 \n",
      "                     1             2022/04/15                      7                      4                     32 \n",
      "                     1             2022/04/15                      6                      5                     34 \n"
     ]
    }
   ],
   "source": [
    "printTable('Programme')\n",
    "\n",
    "printTable('Reservation')"
   ]
  },
  {
   "cell_type": "code",
   "execution_count": 15,
   "id": "d854eea7",
   "metadata": {},
   "outputs": [
    {
     "name": "stdout",
     "output_type": "stream",
     "text": [
      "\n",
      "--- TABLE Participation \n",
      "\n",
      "           ID_musicien             ID_concert \n",
      "                     1                      1 \n",
      "                     3                      1 \n",
      "                     6                      1 \n",
      "                     1                      2 \n",
      "                     3                      2 \n"
     ]
    }
   ],
   "source": [
    "printTable('Participation')"
   ]
  },
  {
   "cell_type": "code",
   "execution_count": 16,
   "id": "28e677e8",
   "metadata": {},
   "outputs": [],
   "source": [
    "def print_requete(sql):\n",
    "    cursor.execute(sql)\n",
    "    rows = cursor.fetchall()\n",
    "    print(\"\\n--- RESULT \\n\")\n",
    "    for desc in cursor.description:\n",
    "        print(desc[0].rjust(22, ' '), end=' ')\n",
    "    print(\"\")\n",
    "    for row in rows:\n",
    "        for value in row:\n",
    "            print(str(value).rjust(22, ' '), end=' ')\n",
    "        print(\"\")"
   ]
  },
  {
   "cell_type": "markdown",
   "id": "80eb327f",
   "metadata": {},
   "source": [
    "### Nous montrons les données utilisées pour la création du programme de concert\n"
   ]
  },
  {
   "cell_type": "code",
   "execution_count": 17,
   "id": "9e3efd4f",
   "metadata": {},
   "outputs": [
    {
     "name": "stdout",
     "output_type": "stream",
     "text": [
      "\n",
      "--- RESULT \n",
      "\n",
      "           Nom_concert           Nom_musicien              Nom_salle       Nom_organisateur                   Date \n",
      "      La folie du soir                  Louis             Le repaire       Le Jazz Ã  faire             2022/04/15 \n",
      "         Nouvelle Ã¨re                   Jaco      L'Ã©lÃ©phant rose          Les meilleurs             2022/10/05 \n",
      "      Festival d'Ã©tÃ©                  Miles         Le New Orleans          Les meilleurs             2022/06/21 \n",
      "      Festival d'Ã©tÃ©                  Miles          Le vieux soir          Les meilleurs             2022/08/07 \n"
     ]
    }
   ],
   "source": [
    "script_1 = '''\n",
    "select Nom_concert, Nom_musicien, Nom_salle, Nom_organisateur, Date\n",
    "from\n",
    "    Concert\n",
    "    natural join Musicien\n",
    "    natural join Seance\n",
    "    natural join Salle\n",
    "    natural join Organisateur\n",
    "'''\n",
    "\n",
    "print_requete(script_1)"
   ]
  },
  {
   "cell_type": "markdown",
   "id": "3ee621ea",
   "metadata": {},
   "source": [
    "### 2. Quel(s) client(s) a(ont) acheté le plus de billets, combien de billets ?\n",
    "### 1ere méthode"
   ]
  },
  {
   "cell_type": "code",
   "execution_count": 18,
   "id": "a5e11bbf",
   "metadata": {},
   "outputs": [
    {
     "name": "stdout",
     "output_type": "stream",
     "text": [
      "les 2 personnes qui ont acheté le plus grand nombre de billets sont: \n",
      "\n",
      "--- RESULT \n",
      "\n",
      "             ID_client             Nom_client             Tel_client   NombreBilletsAchetes \n",
      "                    11                 Victor             0756039207                      6 \n",
      "                    10                  Annie             0815790860                      4 \n"
     ]
    }
   ],
   "source": [
    "script_2 = '''\n",
    "select C.ID_client, C.Nom_client, C.Tel_client, count(R.Num_place) as NombreBilletsAchetes\n",
    "from Client C JOIN Reservation R ON C.ID_client = R.ID_client\n",
    "group by C.ID_client\n",
    "order by NombreBilletsAchetes desc\n",
    "limit 2;\n",
    "'''\n",
    "\n",
    "print(\"les 2 personnes qui ont acheté le plus grand nombre de billets sont: \")\n",
    "print_requete(script_2)"
   ]
  },
  {
   "cell_type": "markdown",
   "id": "251d347b",
   "metadata": {},
   "source": [
    "### 2eme méthode"
   ]
  },
  {
   "cell_type": "code",
   "execution_count": 19,
   "id": "2b6a065c",
   "metadata": {},
   "outputs": [
    {
     "name": "stdout",
     "output_type": "stream",
     "text": [
      "les 2 personnes qui ont acheté le plus grand nombre de billets sont: \n",
      "\n",
      "--- RESULT \n",
      "\n",
      "             ID_client             Nom_client             Tel_client   NombreBilletsAchetes \n",
      "                    11                 Victor             0756039207                      6 \n",
      "                    10                  Annie             0815790860                      4 \n"
     ]
    }
   ],
   "source": [
    "script_2 = '''\n",
    "select ID_client, Nom_client, Tel_client, count(Num_place) as NombreBilletsAchetes\n",
    "from Client NATURAL JOIN Reservation \n",
    "group by Client.ID_client\n",
    "order by NombreBilletsAchetes desc\n",
    "limit 2;\n",
    "'''\n",
    "\n",
    "print(\"les 2 personnes qui ont acheté le plus grand nombre de billets sont: \")\n",
    "print_requete(script_2)"
   ]
  },
  {
   "cell_type": "markdown",
   "id": "a5df999f",
   "metadata": {},
   "source": [
    "---\n",
    "\n",
    "Cette requête sélectionne les deux clients ayant acheté le plus grand nombre de billets pour l'ensemble des concerts.\n",
    "\n",
    "Elle associe les tables **Client** et **Réservation** afin de comptabiliser le nombre total de billets achetés par chaque client, les trie par ce nombre en ordre décroissant et limite les résultats aux deux meilleurs acheteurs.\n",
    "\n",
    "---"
   ]
  },
  {
   "cell_type": "markdown",
   "id": "247ddf00",
   "metadata": {},
   "source": [
    "### 3eme méthode"
   ]
  },
  {
   "cell_type": "code",
   "execution_count": 20,
   "id": "df4bf108",
   "metadata": {},
   "outputs": [
    {
     "name": "stdout",
     "output_type": "stream",
     "text": [
      "les 2 personnes qui ont acheté le plus grand nombre de billets sont: \n",
      "\n",
      "--- RESULT \n",
      "\n",
      "             ID_client             Nom_client             Tel_client   NombreBilletsAchetes \n",
      "                    11                 Victor             0756039207                      6 \n",
      "                    10                  Annie             0815790860                      4 \n"
     ]
    }
   ],
   "source": [
    "script_2='''\n",
    "with ClassementClients as (select ID_client, Nom_client, Tel_client, count(Num_place) as NombreBilletsAchetes,\n",
    "    rank() over (order by count(Num_place) desc) as Classement\n",
    "    from Client natural join Reservation \n",
    "    group by ID_client, Nom_client, Tel_client)\n",
    "    \n",
    "select ID_client, Nom_client, Tel_client, NombreBilletsAchetes\n",
    "from ClassementClients where Classement < 3;\n",
    "'''\n",
    "\n",
    "print(\"les 2 personnes qui ont acheté le plus grand nombre de billets sont: \")\n",
    "print_requete(script_2)"
   ]
  },
  {
   "cell_type": "markdown",
   "id": "85643411",
   "metadata": {},
   "source": [
    "### 3. Y a-t-il des clients ayant acheté des billets à toutes les séances des tous les concerts ?\n",
    "\n",
    "### 1ere méthode"
   ]
  },
  {
   "cell_type": "code",
   "execution_count": 21,
   "id": "aac42302",
   "metadata": {},
   "outputs": [
    {
     "name": "stdout",
     "output_type": "stream",
     "text": [
      "Les clients qui ont acheté des billets à toutes les séances des tous les concerts sont: \n",
      "\n",
      "--- RESULT \n",
      "\n",
      "             ID_client             Nom_client             Tel_client Nombre_Seances_Réservées \n",
      "                    10                  Annie             0815790860                      4 \n"
     ]
    }
   ],
   "source": [
    "script_3 = '''\n",
    "select Client.ID_client, Client.Nom_client, Client.Tel_client, \n",
    "    count (distinct Seance.Date) as Nombre_Seances_Réservées\n",
    "    \n",
    "from Client inner join Reservation on Client.ID_client = Reservation.ID_client\n",
    "            inner join Seance ON Reservation.ID_concert = Seance.ID_concert AND Reservation.Date = Seance.Date\n",
    "group by Client.ID_client\n",
    "\n",
    "having count(distinct Seance.Date) = (select count(*) from Seance)\n",
    "and not exists ( select 1 from Concert c\n",
    "    where ( select count(*) from Seance where ID_concert = c.ID_concert) > (select count(distinct s.Date) \n",
    "                                                                            from Reservation r\n",
    "                                                                            inner join Seance s on r.ID_concert = s.ID_concert \n",
    "                                                                            and r.Date = s.Date\n",
    "                                                                            where r.ID_client = Client.ID_client \n",
    "                                                                            and s.ID_concert = c.ID_concert)\n",
    ");\n",
    "\n",
    "\n",
    "'''\n",
    "\n",
    "print(\"Les clients qui ont acheté des billets à toutes les séances des tous les concerts sont: \")\n",
    "print_requete(script_3)"
   ]
  },
  {
   "cell_type": "markdown",
   "id": "bef6cacd",
   "metadata": {},
   "source": [
    "### 2eme méthode"
   ]
  },
  {
   "cell_type": "code",
   "execution_count": 22,
   "id": "39fd1af9",
   "metadata": {},
   "outputs": [
    {
     "name": "stdout",
     "output_type": "stream",
     "text": [
      "Les clients qui ont acheté des billets à toutes les séances des tous les concerts sont: \n",
      "\n",
      "--- RESULT \n",
      "\n",
      "             ID_client             Nom_client             Tel_client Nombre_Seances_Réservées \n",
      "                    10                  Annie             0815790860                      4 \n"
     ]
    }
   ],
   "source": [
    "\n",
    "script_3 = '''\n",
    "with Client_Seance as (select c.ID_client, s.ID_concert, s.Date\n",
    "    from Client c cross join Seance s)\n",
    "    ,\n",
    "\n",
    "Reservations_Count as (select cs.ID_client, count (r.Date) as Nombre_Seances_Réservées\n",
    "    from Client_Seance cs left join Reservation r on cs.ID_client = r.ID_client \n",
    "                                                  and cs.ID_concert = r.ID_concert \n",
    "                                                  and cs.Date = r.Date\n",
    "    group by cs.ID_client\n",
    "    having count(r.Date) = (select count(*) from Seance))\n",
    "\n",
    "select cl.ID_client, cl.Nom_client, cl.Tel_client, rc.Nombre_Seances_Réservées\n",
    "from Client cl join Reservations_Count rc on cl.ID_client = rc.ID_client\n",
    "'''\n",
    "\n",
    "print(\"Les clients qui ont acheté des billets à toutes les séances des tous les concerts sont: \")\n",
    "print_requete(script_3)"
   ]
  },
  {
   "cell_type": "markdown",
   "id": "2c6b0fad",
   "metadata": {},
   "source": [
    "---\n",
    "Ici, Nous avons utilisé des expressions de table communes (CTE) pour identifier les clients ayant acheté des billets pour chaque séance de chaque concert. \n",
    "\n",
    "Le premier CTE, Client Séance, génère une liste de toutes les combinaisons possibles de clients et de séances, représentant ainsi l'ensemble des séances auxquelles chaque client pourrait potentiellement assister.\n",
    "\n",
    "Le second CTE, Reservations Count, calcule le nombre de séances réservées par chaque client et filtre ceux qui ont réservé un nombre de séances égal au total des séances disponibles. Enfin, la requête principale joint le CTE Reservations Count avec la table Client pour obtenir les résultats.\n",
    "\n",
    "\n",
    "---"
   ]
  },
  {
   "cell_type": "markdown",
   "id": "2b9957fd",
   "metadata": {},
   "source": [
    "### 4. Donnez le nombre de séances de concerts organisés par chaque organisateur\n",
    "### 1ere méthode"
   ]
  },
  {
   "cell_type": "code",
   "execution_count": 23,
   "id": "d663d0d0",
   "metadata": {},
   "outputs": [
    {
     "name": "stdout",
     "output_type": "stream",
     "text": [
      "Le nombre de séances de concerts organisés par chaque organisateur sont: \n",
      "\n",
      "--- RESULT \n",
      "\n",
      "       ID_organisateur       Nom_organisateur          NombreSeances \n",
      "                     1          Les meilleurs                      3 \n",
      "                     3       Le Jazz Ã  faire                      1 \n"
     ]
    }
   ],
   "source": [
    "script_4 = '''\n",
    "select O.ID_Organisateur, O.Nom_Organisateur, count( S.ID_concert) AS NombreSeances\n",
    "from Organisateur O join Concert C ON O.ID_Organisateur = C.ID_Organisateur join Seance S ON C.ID_Concert = S.ID_Concert\n",
    "group by O.ID_Organisateur, O.Nom_Organisateur;\n",
    "'''\n",
    "\n",
    "print(\"Le nombre de séances de concerts organisés par chaque organisateur sont: \")\n",
    "print_requete(script_4)"
   ]
  },
  {
   "cell_type": "markdown",
   "id": "a53f73e4",
   "metadata": {},
   "source": [
    "### 2eme méthode\n"
   ]
  },
  {
   "cell_type": "code",
   "execution_count": 24,
   "id": "16b6800c",
   "metadata": {},
   "outputs": [
    {
     "name": "stdout",
     "output_type": "stream",
     "text": [
      "Le nombre de séances de concerts organisés par chaque organisateur sont: \n",
      "\n",
      "--- RESULT \n",
      "\n",
      "       ID_organisateur       Nom_organisateur          NombreSeances \n",
      "                     1          Les meilleurs                      3 \n",
      "                     3       Le Jazz Ã  faire                      1 \n"
     ]
    }
   ],
   "source": [
    "script_4 = ''' select ID_Organisateur, Nom_Organisateur, count ( ID_concert) as NombreSeances\n",
    "from Organisateur natural join Concert  \n",
    "                    natural join (select ID_Concert from Seance)\n",
    "group by ID_Organisateur, Nom_Organisateur;\n",
    "'''\n",
    "\n",
    "print(\"Le nombre de séances de concerts organisés par chaque organisateur sont: \")\n",
    "print_requete(script_4)"
   ]
  },
  {
   "cell_type": "markdown",
   "id": "bfd7fd06",
   "metadata": {},
   "source": [
    "---\n",
    "La requête utilise des jointures naturelles pour calculer le nombre de séances associées à chaque organisateur. Elle commence par relier les tables Organisateur et Concert afin d'obtenir tous les concerts organisés par chaque organisateur, puis elle intègre les données de la table Séance pour inclure le nombre de séances de chaque concert.\n",
    "\n",
    "\n",
    "Grâce à l'agrégation \"count\", elle dénombre les séances pour chaque organisateur et groupe les résultats par l'ID et le nom de l'organisateur.\n",
    "\n",
    "---"
   ]
  },
  {
   "cell_type": "markdown",
   "id": "dec03788",
   "metadata": {},
   "source": [
    "### 5. Quel(s) musicien(s) n'ont jamais arrangé un morceau\n",
    "### 1ere méthode\n"
   ]
  },
  {
   "cell_type": "code",
   "execution_count": 25,
   "id": "27ce8ba3",
   "metadata": {},
   "outputs": [
    {
     "name": "stdout",
     "output_type": "stream",
     "text": [
      "Les musicien n'ont jamais arrangé un morceau sont: \n",
      "\n",
      "--- RESULT \n",
      "\n",
      "           ID_musicien           Nom_musicien \n",
      "                     2                Michael \n",
      "                     4                Ernesto \n",
      "                     5                  Keith \n",
      "                     8                  Fruko \n",
      "                    10                Douglas \n",
      "                    12              Stanislas \n"
     ]
    }
   ],
   "source": [
    "script_5 = '''\n",
    "select m.ID_musicien, m.Nom_musicien from Musicien m\n",
    "where not exists (select 1 from Programme p where p.ID_arrangeur = m.ID_musicien);\n",
    "'''\n",
    "\n",
    "print(\"Les musicien n'ont jamais arrangé un morceau sont: \")\n",
    "print_requete(script_5)"
   ]
  },
  {
   "cell_type": "markdown",
   "id": "5a1edcad",
   "metadata": {},
   "source": [
    "### 2eme méthode\n"
   ]
  },
  {
   "cell_type": "code",
   "execution_count": 26,
   "id": "fdd1bf25",
   "metadata": {},
   "outputs": [
    {
     "name": "stdout",
     "output_type": "stream",
     "text": [
      "Les musicien n'ont jamais arrangé un morceau sont: \n",
      "\n",
      "--- RESULT \n",
      "\n",
      "           ID_musicien           Nom_musicien \n",
      "                     2                Michael \n",
      "                     4                Ernesto \n",
      "                     5                  Keith \n",
      "                     8                  Fruko \n",
      "                    10                Douglas \n",
      "                    12              Stanislas \n"
     ]
    }
   ],
   "source": [
    "script_5 = '''\n",
    "select m.ID_musicien, m.Nom_musicien \n",
    "from Musicien m left join Programme p on m.ID_musicien = p.ID_arrangeur\n",
    "where p.ID_morceau is null;\n",
    "'''\n",
    "\n",
    "print(\"Les musicien n'ont jamais arrangé un morceau sont: \")\n",
    "print_requete(script_5)"
   ]
  },
  {
   "cell_type": "markdown",
   "id": "624852c6",
   "metadata": {},
   "source": [
    "---\n",
    "Cette requête utilise une jointure à gauche pour identifier les musiciens qui n'ont jamais arrangé de morceau. Elle relie la table Musicien à la table Programme sur l'ID du musicien et vérifie l'absence de correspondance dans la table Programme (indiquée par p.ID_morceau IS NULL).\n",
    "\n",
    "Cela permet de sélectionner uniquement les musiciens qui n'ont aucun morceau associé à leur nom en tant qu'arrangeur, ce qui indique qu'ils n'ont pas arrangé de morceaux.\n",
    "\n",
    "---"
   ]
  },
  {
   "cell_type": "markdown",
   "id": "9d647d3e",
   "metadata": {},
   "source": [
    "### 6. Combien ont rapporté les ventes de places pour chaque concert\n",
    "### 1ere méthode"
   ]
  },
  {
   "cell_type": "code",
   "execution_count": 27,
   "id": "2de9264c",
   "metadata": {},
   "outputs": [
    {
     "name": "stdout",
     "output_type": "stream",
     "text": [
      "Les ventes de places pour chaque concert ont rapporté le suivant: \n",
      "\n",
      "--- RESULT \n",
      "\n",
      "            ID_concert            Nom_concert           Revenu_Total \n",
      "                     1       La folie du soir                    342 \n",
      "                     2          Nouvelle Ã¨re                    315 \n",
      "                     3       Festival d'Ã©tÃ©                    311 \n"
     ]
    }
   ],
   "source": [
    "\n",
    "script_6 = '''\n",
    "select co.ID_concert, co.Nom_concert, SUM(r.Prix) as Revenu_Total\n",
    "from Concert co join Reservation r on co.ID_concert = r.ID_concert\n",
    "group by co.ID_concert, co.Nom_concert;\n",
    "'''\n",
    "\n",
    "print(\"Les ventes de places pour chaque concert ont rapporté le suivant: \")\n",
    "print_requete(script_6)"
   ]
  },
  {
   "cell_type": "markdown",
   "id": "805dd153",
   "metadata": {},
   "source": [
    "### 2eme méthode\n"
   ]
  },
  {
   "cell_type": "code",
   "execution_count": 28,
   "id": "3a5753a8",
   "metadata": {},
   "outputs": [
    {
     "name": "stdout",
     "output_type": "stream",
     "text": [
      "Les ventes de places pour chaque concert ont rapporté le suivant: \n",
      "\n",
      "--- RESULT \n",
      "\n",
      "            ID_concert            Nom_concert           Revenu_Total \n",
      "                     1       La folie du soir                    342 \n",
      "                     2          Nouvelle Ã¨re                    315 \n",
      "                     3       Festival d'Ã©tÃ©                    311 \n"
     ]
    }
   ],
   "source": [
    "script_6 = '''\n",
    "select ID_concert, Nom_concert, sum(Prix) as Revenu_Total\n",
    "from Concert natural join Reservation\n",
    "group by ID_concert, Nom_concert;\n",
    "'''\n",
    "\n",
    "print(\"Les ventes de places pour chaque concert ont rapporté le suivant: \")\n",
    "print_requete(script_6)"
   ]
  },
  {
   "cell_type": "markdown",
   "id": "35fd0e8b",
   "metadata": {},
   "source": [
    "---\n",
    "\n",
    "Dans cette requête, une jointure naturelle est utilisée pour calculer le revenu total de chaque concert en additionnant le prix des billets vendus. Cette jointure relie automatiquement les tables Concert et Réservation par les colonnes communes, ici l'ID du concert.\n",
    "\n",
    "\n",
    "Par la suite, la fonction SUM est appliquée pour additionner tous les prix des billets (Prix) pour chaque concert, en regroupant les résultats par l'ID du concert et le nom du concert. Ainsi, le résultat final présente le revenu total pour chaque concert répertorié dans la base de données.\n",
    "\n",
    "---"
   ]
  },
  {
   "cell_type": "markdown",
   "id": "e25c19d4",
   "metadata": {},
   "source": [
    "### 7. Quels morceaux sont joués à tous les concerts\n",
    "\n",
    "### 1ere méthode"
   ]
  },
  {
   "cell_type": "code",
   "execution_count": 29,
   "id": "47617cf3",
   "metadata": {},
   "outputs": [
    {
     "name": "stdout",
     "output_type": "stream",
     "text": [
      "Les morceaux joués à tous les concerts sont: \n",
      "\n",
      "--- RESULT \n",
      "\n",
      "            ID_morceau            Nom_morceau \n",
      "                     7                  Ouais \n",
      "                    12                   Boum \n",
      "                    14                 La vie \n",
      "                    16               Kokoriko \n"
     ]
    }
   ],
   "source": [
    "script_7 = '''\n",
    "select m.ID_morceau, m.Nom_morceau from Morceau m\n",
    "where not exists (select 1 from Concert c where not exists (select 1\n",
    "                                                            from Programme p\n",
    "                                                            where p.ID_morceau = m.ID_morceau\n",
    "                                                            and p.ID_concert = c.ID_concert)\n",
    ");\n",
    "'''\n",
    "print(\"Les morceaux joués à tous les concerts sont: \")\n",
    "print_requete(script_7)"
   ]
  },
  {
   "cell_type": "markdown",
   "id": "ddd756ed",
   "metadata": {},
   "source": [
    "### 2eme méthode"
   ]
  },
  {
   "cell_type": "code",
   "execution_count": 30,
   "id": "2618368b",
   "metadata": {},
   "outputs": [
    {
     "name": "stdout",
     "output_type": "stream",
     "text": [
      "Les morceaux joués à tous les concerts sont: \n",
      "\n",
      "--- RESULT \n",
      "\n",
      "            ID_morceau            Nom_morceau \n",
      "                     7                  Ouais \n",
      "                    12                   Boum \n",
      "                    14                 La vie \n",
      "                    16               Kokoriko \n"
     ]
    }
   ],
   "source": [
    "script_7 = '''\n",
    "select m.ID_morceau, m.Nom_morceau\n",
    "from Morceau m join Programme p on m.ID_morceau = p.ID_morceau\n",
    "group by m.ID_morceau, m.Nom_morceau\n",
    "having count(distinct p.ID_concert) = (select count (distinct ID_concert) from Concert);\n",
    "'''\n",
    "print(\"Les morceaux joués à tous les concerts sont: \")\n",
    "print_requete(script_7)\n",
    "\n"
   ]
  },
  {
   "cell_type": "markdown",
   "id": "5a6e7caa",
   "metadata": {},
   "source": [
    "---\n",
    "\n",
    "Cette requête identifie les morceaux qui ont été joués à tous les concerts enregistrés dans la base de données. Elle effectue une jointure entre la table Morceau et la table Programme en utilisant l'identifiant du morceau (ID morceau). Cela permet de relier chaque morceau à tous les concerts où il a été joué.\n",
    "De plus, dans la requête, les résultats sont regroupés par ID morceau et nom du morceau (les attributs de la table Morceau), ce qui est nécessaire pour effectuer des calculs sur chaque morceau individuellement.\n",
    "\n",
    "\n",
    "En outre, la fonction COUNT(DISTINCT p.ID_concert) est utilisée pour compter le nombre de concerts distincts où chaque morceau a été joué. La clause HAVING est ensuite utilisée pour filtrer les morceaux, en comparant le nombre de concerts où le morceau a été joué avec le nombre total de concerts distincts (SELECT COUNT(DISTINCT ID_concert) FROM Concert). Seuls les morceaux joués dans un nombre de concerts égal au nombre total de concerts distincts sont sélectionnés.\n",
    "\n",
    "---"
   ]
  },
  {
   "cell_type": "markdown",
   "id": "a4f64bca",
   "metadata": {},
   "source": [
    "###  8. Y a-t-il des musiciens parmi les clients ? Comment le vérifier ?\n"
   ]
  },
  {
   "cell_type": "code",
   "execution_count": 31,
   "id": "f1031c47",
   "metadata": {},
   "outputs": [
    {
     "name": "stdout",
     "output_type": "stream",
     "text": [
      "Les musiciens parmi les clients sont: \n",
      "\n",
      "--- RESULT \n",
      "\n",
      "          Nom_musicien           Tel_musicien \n",
      "             Stanislas             0622181420 \n",
      "                 Omara             0316508123 \n"
     ]
    }
   ],
   "source": [
    "\n",
    "script_8 = '''\n",
    "select Nom_musicien, Tel_musicien from musicien natural join reservation natural join client\n",
    "where Tel_musicien = Tel_client\n",
    "'''\n",
    "\n",
    "print(\"Les musiciens parmi les clients sont: \")\n",
    "print_requete(script_8)"
   ]
  },
  {
   "cell_type": "markdown",
   "id": "0c361fff",
   "metadata": {},
   "source": [
    "---\n",
    "Cette requête est conçue pour identifier les musiciens qui sont également des clients, en partant du principe que si un musicien et un client partagent le même numéro de téléphone, ils sont en réalité la même personne.\n",
    "\n",
    "Pour cela, nous utilisons une jointure naturelle (NATURAL JOIN) pour combiner les tables Musicien, Réservation et Client. Cette jointure associe automatiquement les colonnes portant le même nom dans ces tables.\n",
    "\n",
    "La condition WHERE Tel_musicien = Tel_client filtre les résultats afin de ne conserver que les cas où le numéro de téléphone du musicien correspond à celui du client, suggérant ainsi qu'il s'agit de la même personne.\n",
    "\n",
    "Enfin, nous sélectionnons le nom du musicien (Nom_musicien) et son numéro de téléphone (Tel_musicien) pour les musiciens qui remplissent cette condition.\n",
    "\n",
    "\n",
    "\n",
    "---"
   ]
  },
  {
   "cell_type": "markdown",
   "id": "22718bdc",
   "metadata": {},
   "source": [
    "### 9. Calculez le chiffre d’affaires par séance de concert\n",
    "\n",
    "### 1ere méthode\n"
   ]
  },
  {
   "cell_type": "code",
   "execution_count": 32,
   "id": "3529791b",
   "metadata": {},
   "outputs": [
    {
     "name": "stdout",
     "output_type": "stream",
     "text": [
      "Le chiffre d’affaires par séance de concert est représenté ci-dessous: \n",
      "\n",
      "--- RESULT \n",
      "\n",
      "            ID_concert                   Date       Chiffre_Affaires  Nombre_billets_Vendus \n",
      "                     1             2022/04/15                    342                     14 \n",
      "                     2             2022/10/05                    315                     16 \n",
      "                     3             2022/06/21                    163                     10 \n",
      "                     3             2022/08/07                    148                     10 \n"
     ]
    }
   ],
   "source": [
    "script_9 = '''\n",
    "select s.ID_concert, s.Date, sum(r.Prix) as Chiffre_Affaires, count(*) as Nombre_billets_Vendus\n",
    "from Seance s join Reservation r on s.ID_concert = r.ID_concert and s.Date = r.Date\n",
    "group by s.ID_concert, s.Date;\n",
    "'''\n",
    "\n",
    "print(\"Le chiffre d’affaires par séance de concert est représenté ci-dessous: \")\n",
    "print_requete(script_9)"
   ]
  },
  {
   "cell_type": "markdown",
   "id": "fd34e733",
   "metadata": {},
   "source": [
    "### 2eme méthode"
   ]
  },
  {
   "cell_type": "code",
   "execution_count": 33,
   "id": "daa41a69",
   "metadata": {},
   "outputs": [
    {
     "name": "stdout",
     "output_type": "stream",
     "text": [
      "Le chiffre d’affaires par séance de concert est représenté ci-dessous: \n",
      "\n",
      "--- RESULT \n",
      "\n",
      "            ID_concert                   Date       Chiffre_Affaires \n",
      "                     1             2022/04/15                    342 \n",
      "                     2             2022/10/05                    315 \n",
      "                     3             2022/06/21                    163 \n",
      "                     3             2022/08/07                    148 \n"
     ]
    }
   ],
   "source": [
    "###2eme methode\n",
    "script_9 = '''\n",
    "select s.ID_concert, s.Date, (select sum(r.Prix) from Reservation r\n",
    "where r.ID_concert = s.ID_concert and r.Date = s.Date) as Chiffre_Affaires\n",
    "from Seance s;\n",
    "'''\n",
    "\n",
    "print(\"Le chiffre d’affaires par séance de concert est représenté ci-dessous: \")\n",
    "print_requete(script_9)"
   ]
  },
  {
   "cell_type": "markdown",
   "id": "f2e24b04",
   "metadata": {},
   "source": [
    "### 3eme méthode\n"
   ]
  },
  {
   "cell_type": "code",
   "execution_count": 34,
   "id": "4cf69389",
   "metadata": {},
   "outputs": [
    {
     "name": "stdout",
     "output_type": "stream",
     "text": [
      "Le chiffre d’affaires par séance de concert est représenté ci-dessous: \n",
      "\n",
      "--- RESULT \n",
      "\n",
      "            ID_concert                   Date  Nombre_Billets_Vendus       Chiffre_Affaires \n",
      "                     1             2022/04/15                     14                    342 \n",
      "                     2             2022/10/05                     16                    315 \n",
      "                     3             2022/06/21                     10                    163 \n",
      "                     3             2022/08/07                     10                    148 \n"
     ]
    }
   ],
   "source": [
    "script_9 = '''\n",
    "select distinct s.ID_concert, s.Date,\n",
    "    count(r.ID_client) over (partition by s.ID_concert, s.Date) as Nombre_Billets_Vendus,\n",
    "    sum(r.Prix) over (partition by s.ID_concert, s.Date) as Chiffre_Affaires\n",
    "from Seance s join Reservation r ON s.ID_concert = r.ID_concert AND s.Date = r.Date;\n",
    "'''\n",
    "\n",
    "print(\"Le chiffre d’affaires par séance de concert est représenté ci-dessous: \")\n",
    "print_requete(script_9)"
   ]
  },
  {
   "cell_type": "markdown",
   "id": "6c5f3612",
   "metadata": {},
   "source": [
    "---\n",
    "Cette requête est conçue pour calculer le chiffre d'affaires de chaque séance de concert. Pour ce faire, nous effectuons une jointure entre les tables Séance et Réservation en utilisant à la fois l'ID du concert (ID concert) et la date de la séance (Date). Cela permet de relier chaque réservation à sa séance de concert spécifique.\n",
    "\n",
    "\n",
    "Nous avons également sélectionné l'identifiant du concert et la date de la séance afin d'identifier chaque séance de manière distincte. De plus, nous calculons le total des revenus générés par la vente des billets pour chaque séance. La somme des prix des réservations (r.Prix) fournit le chiffre d'affaires total.\n",
    "\n",
    "\n",
    "Nous avons inclus COUNT(*) AS Nombre_billets_Vendus pour compter le nombre total de billets vendus pour chaque séance. Cette fonction COUNT(*) compte toutes les lignes (réservations) correspondant à chaque groupe de séances.\n",
    "Enfin, nos résultats sont regroupés par l'identifiant du concert et la date de la séance, ce qui nous permet d'obtenir des résultats distincts pour chaque séance de concert.\n",
    "\n",
    "---"
   ]
  },
  {
   "cell_type": "markdown",
   "id": "4c1ec958",
   "metadata": {},
   "source": [
    "### 10. Quel organisateur a gagné le plus sachant qu'il lui revient en moyenne 20% du chiffre d’affaires du concert"
   ]
  },
  {
   "cell_type": "code",
   "execution_count": 35,
   "id": "ea770143",
   "metadata": {},
   "outputs": [
    {
     "name": "stdout",
     "output_type": "stream",
     "text": [
      "L'organisateur ayant gagné le plus sachant qu'il lui revient en moyenne 20% du chiffre d’affaires du concert est: \n",
      "\n",
      "--- RESULT \n",
      "\n",
      "       ID_organisateur       Nom_organisateur    Revenu_Organisateur \n",
      "                     1          Les meilleurs                  125.2 \n"
     ]
    }
   ],
   "source": [
    "script_10 = '''\n",
    "select o.ID_organisateur, o.Nom_organisateur, sum(r.Prix) * 0.2 \n",
    "as Revenu_Organisateur\n",
    "from Organisateur o join Concert co on o.ID_organisateur = co.ID_organisateur\n",
    "join Reservation r on co.ID_concert = r.ID_concert\n",
    "group by o.ID_organisateur, o.Nom_organisateur\n",
    "order by Revenu_Organisateur desc\n",
    "limit 1;\n",
    "'''\n",
    "print(\"L'organisateur ayant gagné le plus sachant qu'il lui revient en moyenne 20% du chiffre d’affaires du concert est: \")\n",
    "print_requete(script_10)"
   ]
  },
  {
   "cell_type": "markdown",
   "id": "731fbaf6",
   "metadata": {},
   "source": [
    "--- \n",
    "\n",
    "Cette requête est conçue pour identifier l'organisateur de concerts ayant généré le plus de revenus, en tenant compte du fait qu'il perçoit en moyenne 20 % du chiffre d'affaires réalisé par chaque concert.\n",
    "Pour cela, nous avons d'abord joint la table Organisateur à la table Concert sur l'ID de l'organisateur, puis relié la table Concert à la table Réservation sur l'ID du concert. Cette opération de jointure permet de relier chaque organisateur aux concerts qu'il a organisés ainsi qu'aux réservations correspondantes.\n",
    "\n",
    "\n",
    "Nous avons calculé le revenu de l'organisateur pour chaque groupe (organisateur) en sommant tous les prix des billets vendus pour les concerts qu'il a organisés (SUM(r.Prix)) et en prenant 20 % de ce total (multiplié par 0,2), car l'organisateur perçoit 20 % du chiffre d'affaires.\n",
    "\n",
    "\n",
    "Les résultats sont ensuite regroupés par l'identifiant et le nom de l'organisateur afin de déterminer le revenu total pour chaque organisateur. Enfin, nous avons trié les organisateurs par leur revenu en ordre décroissant et limité les résultats au premier enregistrement, ce qui correspond à l'organisateur ayant gagné le plus d'argent.\n",
    "\n",
    "---"
   ]
  },
  {
   "cell_type": "code",
   "execution_count": 114,
   "id": "31af0be6",
   "metadata": {},
   "outputs": [
    {
     "name": "stdout",
     "output_type": "stream",
     "text": [
      "🔍 Requête SQL générée :\n",
      "SELECT Musicians FROM table WHERE Nom_concert, ID_\n",
      "\n"
     ]
    }
   ],
   "source": [
    "from huggingface_hub import login\n",
    "import sqlite3\n",
    "import requests\n",
    "\n",
    "# ✅ Function to connect to SQLite database\n",
    "def connect_db():\n",
    "    \"\"\"Connexion à la base de données SQLite\"\"\"\n",
    "    return sqlite3.connect(\"jazz_projet.db\")\n",
    "\n",
    "# ✅ Function to generate SQL query using Hugging Face API\n",
    "def generate_sql_huggingface(question):\n",
    "    \"\"\"Generate SQL query from natural language using Hugging Face API\"\"\"\n",
    "    API_URL = \"https://api-inference.huggingface.co/models/mrm8488/t5-base-finetuned-wikiSQL\"\n",
    "    #API_URL = \"https://api-inference.huggingface.co/models/lgesse/t5-base-text2sql\"\n",
    "    #API_URL = \"https://api-inference.huggingface.co/models/alpecevit/flan-t5-base-text2sql\"\n",
    "    #API_URL = \"https://api-inference.huggingface.co/models/gaussalgo/T5-LM-Large-text2sql-spider\"\n",
    "    #API_URL = \"https://api-inference.huggingface.co/models/devzafar/t5-small-text2sql\"\n",
    "\n",
    "\n",
    "\n",
    "\n",
    "\n",
    "\n",
    "\n",
    "    HEADERS = {\"Authorization\": \"Bearer cccccccccccccc\"}  # \n",
    "\n",
    "    # Provide database schema and question as input\n",
    "    schema = \"\"\"\n",
    "    Database schema:\n",
    "    - Concert(ID_concert, Nom_concert, ID_musicien, ID_organisateur)\n",
    "    - Client(ID_client, Nom_client, Tel_client)\n",
    "    - Reservation(ID_concert, Date, ID_client, Num_place, Prix)\n",
    "    - Musicien(ID_musicien, Nom_musicien, Tel_musicien)\n",
    "    - Salle(ID_salle, Nom_salle, Nombre_Places)\n",
    "    - Organisateur(ID_organisateur, Nom_organisateur, Tel_organisateur)\n",
    "    - Morceau(ID_morceau, Nom_morceau)\n",
    "    - Programme(ID_morceau, ID_concert, ID_arrangeur)\n",
    "    - Auteur(ID_musicien, ID_morceau)\n",
    "    - Seance(ID_concert, Date, ID_salle)\n",
    "    \"\"\"\n",
    "\n",
    "    payload = {\n",
    "        \"inputs\": f\"{schema}\\nQuestion: {question}\\nSQL Query:\"\n",
    "    }\n",
    "\n",
    "    response = requests.post(API_URL, headers=HEADERS, json=payload)\n",
    "\n",
    "    if response.status_code == 200:\n",
    "        try:\n",
    "            return response.json()[0][\"generated_text\"].strip()\n",
    "        except (KeyError, IndexError):\n",
    "            return \"⚠️ Error: Unexpected API response format\"\n",
    "    elif response.status_code == 503:\n",
    "        return \"⚠️ Error: Model is still loading. Please try again in a few seconds.\"\n",
    "    else:\n",
    "        return f\"❌ API Error: {response.status_code} - {response.text}\"\n",
    "\n",
    "# ✅ Function to execute SQL query\n",
    "def execute_sql_query(query):\n",
    "    \"\"\"Execute the generated SQL query in SQLite\"\"\"\n",
    "    conn = connect_db()\n",
    "    cursor = conn.cursor()\n",
    "\n",
    "    # Ensure query is valid SQL before executing\n",
    "    if query.startswith(\"⚠️\") or query.startswith(\"❌\"):\n",
    "        return query  # Return error message instead of executing invalid SQL\n",
    "    \n",
    "    try:\n",
    "        cursor.execute(query)\n",
    "        result = cursor.fetchall()\n",
    "        conn.close()\n",
    "        return result if result else \"✅ Query executed successfully (No data returned)\"\n",
    "    except Exception as e:\n",
    "        conn.close()\n",
    "        return f\"⚠️ SQL Execution Error: {e}\"\n",
    "\n",
    "# ✅ Complete SQL pipeline\n",
    "def sql_pipeline(question):\n",
    "    \"\"\"Full pipeline: Generate & execute SQL queries from natural language\"\"\"\n",
    "    \n",
    "    # Generate SQL Query\n",
    "    sql_query = generate_sql_huggingface(question)\n",
    "    print(f\"🔍 Requête SQL générée :\\n{sql_query}\\n\")\n",
    "    \n",
    "\n",
    "    \n",
    "    return result\n",
    "\n",
    "# ✅ Example usage\n",
    "question = \"Quels musiciens n'ont jamais arrangé un morceau ?\"\n",
    "result = sql_pipeline(question) "
   ]
  },
  {
   "cell_type": "markdown",
   "id": "9e71e544",
   "metadata": {},
   "source": [
    "Le code SQL incomplet ou erroné est dû au fait que le modèle mrm8488/t5-base-finetuned-wikiSQL n'a pas été entraîné de manière approfondie sur des schémas complexes à plusieurs tables. \n",
    "\n",
    "Sa formation s'est principalement concentrée sur l'ensemble de données WikiSQL, où chaque requête concerne une seule table avec des noms de colonnes plus simples. Par conséquent, lorsqu'il est confronté à notre schéma multitable personnalisé, le modèle peut produire des instructions SQL partielles ou invalides.\n",
    "\n",
    "     \n",
    "\n",
    "            J'ai effectué plusieurs essais avec différents modèles, mais je n'ai pas encore trouvé celui qui convient.\n"
   ]
  }
 ],
 "metadata": {
  "kernelspec": {
   "display_name": "Python 3",
   "language": "python",
   "name": "python3"
  },
  "language_info": {
   "codemirror_mode": {
    "name": "ipython",
    "version": 3
   },
   "file_extension": ".py",
   "mimetype": "text/x-python",
   "name": "python",
   "nbconvert_exporter": "python",
   "pygments_lexer": "ipython3",
   "version": "3.11.0"
  }
 },
 "nbformat": 4,
 "nbformat_minor": 5
}
